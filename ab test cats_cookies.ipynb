{
 "cells": [
  {
   "cell_type": "markdown",
   "id": "43aaa648",
   "metadata": {},
   "source": [
    "<b>AB тестирование</b>\n",
    "\n",
    "Cookie Cats — популярная мобильная игра-головоломка, разработанная компанией Tactile Entertainment. Он соответствует классическому формату головоломки «соедини три», в котором игроки должны совмещать плитки одного цвета, чтобы очистить доску и продвигаться по уровням. Уникальной особенностью игры являются поющие коты.\n",
    "\n",
    "По мере прохождения игры игроки сталкиваются с блокирующими уровнями (gates), которые требуют от них ожидания или совершения покупок в приложении, чтобы продолжить. Эти уровни служат двойной цели: стимулировать покупки в приложении и давать игрокам передышку, потенциально повышая их общее удовольствие от игры и продлевая их вовлеченность.\n",
    "\n",
    "Целью этого проекта является анализ AB-теста, проведенного в Cookie Cats, где размещение первого блокирующего уровня было перенесено с уровня 30 на уровень 40. В частности, мы исследуем влияние этого изменения на удержание игроков.\n",
    "\n",
    "Набор данных включает данные 90189 игроков, которые установили игру во время периода AB-тестирования. Переменные включают в себя:\n",
    "\n",
    "userid: уникальный идентификатор для каждого игрока.\n",
    "\n",
    "version: указывает, был ли игрок отнесен к контрольной группе (gate_30 — блок на уровне 30) или тестовой группе (gate_40 — блок на уровне 40).\n",
    "\n",
    "sum_gamerounds: количество игровых раундов, сыгранных игроком в течение первой недели после установки.\n",
    "\n",
    "Retention_1: двоичная переменная, указывающая, вернулся ли игрок в игру через день после установки.\n",
    "\n",
    "Retention_7: двоичная переменная, указывающая, вернулся ли игрок в игру через семь дней после установки.\n",
    "\n",
    "При установке игроки случайным образом распределялись либо по gate_30, либо по gate_40."
   ]
  },
  {
   "cell_type": "code",
   "execution_count": 1,
   "id": "dbdedc9a",
   "metadata": {},
   "outputs": [],
   "source": [
    "import pandas as pd\n",
    "import numpy as np\n",
    "import matplotlib.pyplot as plt\n",
    "from scipy import stats\n",
    "from scipy.stats import chi2_contingency"
   ]
  },
  {
   "cell_type": "markdown",
   "id": "8610d34f",
   "metadata": {},
   "source": [
    "<b>Чтение файла CSV и проверка данных</b>"
   ]
  },
  {
   "cell_type": "code",
   "execution_count": 2,
   "id": "a4c41b63",
   "metadata": {},
   "outputs": [
    {
     "name": "stdout",
     "output_type": "stream",
     "text": [
      "<class 'pandas.core.frame.DataFrame'>\n",
      "RangeIndex: 90189 entries, 0 to 90188\n",
      "Data columns (total 5 columns):\n",
      " #   Column          Non-Null Count  Dtype \n",
      "---  ------          --------------  ----- \n",
      " 0   userid          90189 non-null  int64 \n",
      " 1   version         90189 non-null  object\n",
      " 2   sum_gamerounds  90189 non-null  int64 \n",
      " 3   retention_1     90189 non-null  bool  \n",
      " 4   retention_7     90189 non-null  bool  \n",
      "dtypes: bool(2), int64(2), object(1)\n",
      "memory usage: 2.2+ MB\n"
     ]
    },
    {
     "data": {
      "text/plain": [
       "None"
      ]
     },
     "metadata": {},
     "output_type": "display_data"
    },
    {
     "data": {
      "text/html": [
       "<div>\n",
       "<style scoped>\n",
       "    .dataframe tbody tr th:only-of-type {\n",
       "        vertical-align: middle;\n",
       "    }\n",
       "\n",
       "    .dataframe tbody tr th {\n",
       "        vertical-align: top;\n",
       "    }\n",
       "\n",
       "    .dataframe thead th {\n",
       "        text-align: right;\n",
       "    }\n",
       "</style>\n",
       "<table border=\"1\" class=\"dataframe\">\n",
       "  <thead>\n",
       "    <tr style=\"text-align: right;\">\n",
       "      <th></th>\n",
       "      <th>userid</th>\n",
       "      <th>version</th>\n",
       "      <th>sum_gamerounds</th>\n",
       "      <th>retention_1</th>\n",
       "      <th>retention_7</th>\n",
       "    </tr>\n",
       "  </thead>\n",
       "  <tbody>\n",
       "    <tr>\n",
       "      <th>55613</th>\n",
       "      <td>6165848</td>\n",
       "      <td>gate_30</td>\n",
       "      <td>56</td>\n",
       "      <td>True</td>\n",
       "      <td>False</td>\n",
       "    </tr>\n",
       "    <tr>\n",
       "      <th>62976</th>\n",
       "      <td>6978859</td>\n",
       "      <td>gate_40</td>\n",
       "      <td>8</td>\n",
       "      <td>False</td>\n",
       "      <td>False</td>\n",
       "    </tr>\n",
       "    <tr>\n",
       "      <th>2921</th>\n",
       "      <td>320866</td>\n",
       "      <td>gate_40</td>\n",
       "      <td>48</td>\n",
       "      <td>False</td>\n",
       "      <td>True</td>\n",
       "    </tr>\n",
       "    <tr>\n",
       "      <th>83279</th>\n",
       "      <td>9229487</td>\n",
       "      <td>gate_40</td>\n",
       "      <td>5</td>\n",
       "      <td>False</td>\n",
       "      <td>False</td>\n",
       "    </tr>\n",
       "    <tr>\n",
       "      <th>5004</th>\n",
       "      <td>555176</td>\n",
       "      <td>gate_30</td>\n",
       "      <td>1</td>\n",
       "      <td>False</td>\n",
       "      <td>False</td>\n",
       "    </tr>\n",
       "    <tr>\n",
       "      <th>44904</th>\n",
       "      <td>4975727</td>\n",
       "      <td>gate_40</td>\n",
       "      <td>9</td>\n",
       "      <td>False</td>\n",
       "      <td>False</td>\n",
       "    </tr>\n",
       "    <tr>\n",
       "      <th>3654</th>\n",
       "      <td>405217</td>\n",
       "      <td>gate_40</td>\n",
       "      <td>15</td>\n",
       "      <td>False</td>\n",
       "      <td>False</td>\n",
       "    </tr>\n",
       "    <tr>\n",
       "      <th>39576</th>\n",
       "      <td>4383537</td>\n",
       "      <td>gate_40</td>\n",
       "      <td>6</td>\n",
       "      <td>False</td>\n",
       "      <td>False</td>\n",
       "    </tr>\n",
       "    <tr>\n",
       "      <th>89753</th>\n",
       "      <td>9953244</td>\n",
       "      <td>gate_30</td>\n",
       "      <td>64</td>\n",
       "      <td>True</td>\n",
       "      <td>False</td>\n",
       "    </tr>\n",
       "    <tr>\n",
       "      <th>34631</th>\n",
       "      <td>3835228</td>\n",
       "      <td>gate_40</td>\n",
       "      <td>32</td>\n",
       "      <td>True</td>\n",
       "      <td>False</td>\n",
       "    </tr>\n",
       "  </tbody>\n",
       "</table>\n",
       "</div>"
      ],
      "text/plain": [
       "        userid  version  sum_gamerounds  retention_1  retention_7\n",
       "55613  6165848  gate_30              56         True        False\n",
       "62976  6978859  gate_40               8        False        False\n",
       "2921    320866  gate_40              48        False         True\n",
       "83279  9229487  gate_40               5        False        False\n",
       "5004    555176  gate_30               1        False        False\n",
       "44904  4975727  gate_40               9        False        False\n",
       "3654    405217  gate_40              15        False        False\n",
       "39576  4383537  gate_40               6        False        False\n",
       "89753  9953244  gate_30              64         True        False\n",
       "34631  3835228  gate_40              32         True        False"
      ]
     },
     "metadata": {},
     "output_type": "display_data"
    }
   ],
   "source": [
    "dataset = pd.read_csv(\"cookie_cats.csv\")\n",
    "display(dataset.info())\n",
    "display(dataset.sample(10))"
   ]
  },
  {
   "cell_type": "markdown",
   "id": "a49334a6",
   "metadata": {},
   "source": [
    "<b>Фильтрация sum_gamerounds > 0 для тех, кто только установил игру, но не играл в нее.</b>"
   ]
  },
  {
   "cell_type": "code",
   "execution_count": 3,
   "id": "4351e0a6",
   "metadata": {},
   "outputs": [
    {
     "name": "stdout",
     "output_type": "stream",
     "text": [
      "        userid  version  sum_gamerounds  retention_1  retention_7\n",
      "0          116  gate_30               3        False        False\n",
      "1          337  gate_30              38         True        False\n",
      "2          377  gate_40             165         True        False\n",
      "3          483  gate_40               1        False        False\n",
      "4          488  gate_40             179         True         True\n",
      "...        ...      ...             ...          ...          ...\n",
      "90184  9999441  gate_40              97         True        False\n",
      "90185  9999479  gate_40              30        False        False\n",
      "90186  9999710  gate_30              28         True        False\n",
      "90187  9999768  gate_40              51         True        False\n",
      "90188  9999861  gate_40              16        False        False\n",
      "\n",
      "[86195 rows x 5 columns]\n"
     ]
    }
   ],
   "source": [
    "dataset1 = dataset[dataset['sum_gamerounds'] != 0]\n",
    "\n",
    "print(dataset1)"
   ]
  },
  {
   "cell_type": "markdown",
   "id": "ada43da8",
   "metadata": {},
   "source": [
    "<b>Количество раундов, сыгранных игроками по gate_30 и gate_40</b>"
   ]
  },
  {
   "cell_type": "code",
   "execution_count": 4,
   "id": "69a5e374",
   "metadata": {},
   "outputs": [
    {
     "name": "stdout",
     "output_type": "stream",
     "text": [
      "version\n",
      "gate_30    2344795\n",
      "gate_40    2333530\n",
      "Name: sum_gamerounds, dtype: int64\n"
     ]
    },
    {
     "data": {
      "image/png": "[encoded data removed]",
      "text/plain": [
       "<Figure size 640x480 with 1 Axes>"
      ]
     },
     "metadata": {},
     "output_type": "display_data"
    }
   ],
   "source": [
    "dataset2 = dataset1.groupby('version')['sum_gamerounds'].sum()\n",
    "print(dataset2)\n",
    "dataset2.plot(kind='bar', stacked=False)\n",
    "\n",
    "plt.title('Game rounds sum by gate')\n",
    "plt.xlabel('Versión')\n",
    "plt.ylabel('Number')\n",
    "\n",
    "plt.show()"
   ]
  },
  {
   "cell_type": "markdown",
   "id": "9bd51d93",
   "metadata": {},
   "source": [
    "Как было замечено, между gate_30 и gate_40 есть небольшая разница в сумме раундов, что незначительно."
   ]
  },
  {
   "cell_type": "markdown",
   "id": "f12dd050",
   "metadata": {},
   "source": [
    "<b>Retention</b>"
   ]
  },
  {
   "cell_type": "code",
   "execution_count": 5,
   "id": "d4ad0f3c",
   "metadata": {},
   "outputs": [
    {
     "name": "stdout",
     "output_type": "stream",
     "text": [
      "        retention_1        retention_7      \n",
      "              False  True        False True \n",
      "version                                     \n",
      "gate_30       22770  19993       34277  8486\n",
      "gate_40       23359  20073       35166  8266\n"
     ]
    }
   ],
   "source": [
    "counts2 = dataset1.groupby('version')[['retention_1', 'retention_7']].apply(lambda x: x.apply(pd.value_counts)).unstack(fill_value=0)\n",
    "print(counts2)"
   ]
  },
  {
   "cell_type": "code",
   "execution_count": 6,
   "id": "0d0fba78",
   "metadata": {},
   "outputs": [
    {
     "data": {
      "image/png": "[encoded data removed]",
      "text/plain": [
       "<Figure size 640x480 with 1 Axes>"
      ]
     },
     "metadata": {},
     "output_type": "display_data"
    }
   ],
   "source": [
    "counts2.plot(kind='bar', stacked=False)\n",
    "\n",
    "\n",
    "plt.title('Retention values by version')\n",
    "plt.xlabel('Versión')\n",
    "plt.ylabel('Frecuency')\n",
    "\n",
    "plt.show()"
   ]
  },
  {
   "cell_type": "markdown",
   "id": "0e27459e",
   "metadata": {},
   "source": [
    "Наблюдения: Как мы видим, количество удерженных игроков для обеих версий близки. Для gate_30 retention_1 = 19993, а retention_7 = 8486. Для gate_40 retention_1 = 20073, а retention_7 = 8 266."
   ]
  },
  {
   "cell_type": "code",
   "execution_count": 7,
   "id": "34b0694b",
   "metadata": {},
   "outputs": [
    {
     "name": "stdout",
     "output_type": "stream",
     "text": [
      "retention_rate_1\n",
      "version\n",
      "gate_30    0.467530\n",
      "gate_40    0.462171\n",
      "Name: retention_1, dtype: float64\n",
      "retention_rate_7\n",
      "version\n",
      "gate_30    0.198443\n",
      "gate_40    0.190321\n",
      "Name: retention_7, dtype: float64\n"
     ]
    }
   ],
   "source": [
    "retention_rate_1 = dataset1.groupby('version')['retention_1'].mean()\n",
    "retention_rate_7 = dataset1.groupby('version')['retention_7'].mean()\n",
    "\n",
    "\n",
    "print(\"retention_rate_1\")\n",
    "print(retention_rate_1)\n",
    "\n",
    "print(\"retention_rate_7\")\n",
    "print(retention_rate_7)"
   ]
  },
  {
   "cell_type": "markdown",
   "id": "2cc3ddff",
   "metadata": {},
   "source": [
    "Наблюдения: Как мы видим, несмотря на то, что цифры удержания близки, можно увидеть небольшую разницу в показателях, где gate_30 имеют большее число."
   ]
  },
  {
   "cell_type": "markdown",
   "id": "a2019bba",
   "metadata": {},
   "source": [
    "<b>Retention gate_30 и gate_40"
   ]
  },
  {
   "cell_type": "code",
   "execution_count": 8,
   "id": "b6357451",
   "metadata": {},
   "outputs": [
    {
     "name": "stdout",
     "output_type": "stream",
     "text": [
      "Retention Rate for Gate 30 (1 Day): 0.46753034165049223\n",
      "Retention Rate for Gate 40 (1 Day): 0.46217074967765703\n",
      "\n",
      "Retention Rate for Gate 30 (7 Days): 0.19844257886490657\n",
      "Retention Rate for Gate 40 (7 Days): 0.1903205010130779\n"
     ]
    }
   ],
   "source": [
    "retention_rate_gate_30_1_day = dataset1.loc[dataset1['version'] == 'gate_30', 'retention_1'].mean()\n",
    "retention_rate_gate_40_1_day = dataset1.loc[dataset1['version'] == 'gate_40', 'retention_1'].mean()\n",
    "\n",
    "retention_rate_gate_30_7_days = dataset1.loc[dataset1['version'] == 'gate_30', 'retention_7'].mean()\n",
    "retention_rate_gate_40_7_days = dataset1.loc[dataset1['version'] == 'gate_40', 'retention_7'].mean()\n",
    "\n",
    "print(\"Retention Rate for Gate 30 (1 Day):\", retention_rate_gate_30_1_day)\n",
    "print(\"Retention Rate for Gate 40 (1 Day):\", retention_rate_gate_40_1_day)\n",
    "\n",
    "print(\"\\nRetention Rate for Gate 30 (7 Days):\", retention_rate_gate_30_7_days)\n",
    "print(\"Retention Rate for Gate 40 (7 Days):\", retention_rate_gate_40_7_days)"
   ]
  },
  {
   "cell_type": "markdown",
   "id": "3f5a8fe0",
   "metadata": {},
   "source": [
    "<b>Так как мы имеем дело с категориальным значением (либо пользователь остался, либо нет), то мы не можем нормально посчитать стандартное отклонение. Значит применим критерий Хи-квадрат для оценки p-value</b>"
   ]
  },
  {
   "cell_type": "code",
   "execution_count": 9,
   "id": "3f3b78d0",
   "metadata": {},
   "outputs": [
    {
     "name": "stdout",
     "output_type": "stream",
     "text": [
      "Chi2ContingencyResult(statistic=2.4666341328649986, pvalue=0.1162867062795239, dof=1, expected_freq=array([[22885.48555021, 19877.51444979],\n",
      "       [23243.51444979, 20188.48555021]]))\n",
      "Chi2ContingencyResult(statistic=9.02639082143805, pvalue=0.0026610937404232564, dof=1, expected_freq=array([[34452.01008179,  8310.98991821],\n",
      "       [34990.98991821,  8441.01008179]]))\n"
     ]
    }
   ],
   "source": [
    "contingency_1 = pd.crosstab(dataset1['version'], dataset1['retention_1'])\n",
    "contingency_7 = pd.crosstab(dataset1['version'], dataset1['retention_7'])\n",
    "day_1 = chi2_contingency(contingency_1)\n",
    "\n",
    "day_7 = chi2_contingency(contingency_7)\n",
    "\n",
    "print(day_1)\n",
    "print(day_7)"
   ]
  },
  {
   "cell_type": "markdown",
   "id": "eddc3314",
   "metadata": {},
   "source": [
    "<b>Как можно видеть p-value для retention_1 = 0.1162867062795239, а для retention_7 = 0.0026610937404232564. Если брать стандартный уровень значимости 0,95 , то мы не можем отклонить нулевую гипотезу для retention_1 (нулевая гипотеза означает, что разницы между gate_30 и gate_40 нет), а для retention_7 p-value < 0,05. Можно сделать вывод, что что gate_30 улучшает retention 7ого дня по сравнению с gate_40. Но это нельзя с точностью утвержать для retention 1ого дня, так как p-value > 0,05.<b>"
   ]
  },
  {
   "cell_type": "code",
   "execution_count": null,
   "id": "36c9ccd5",
   "metadata": {},
   "outputs": [],
   "source": []
  }
 ],
 "metadata": {
  "kernelspec": {
   "display_name": "Python 3 (ipykernel)",
   "language": "python",
   "name": "python3"
  },
  "language_info": {
   "codemirror_mode": {
    "name": "ipython",
    "version": 3
   },
   "file_extension": ".py",
   "mimetype": "text/x-python",
   "name": "python",
   "nbconvert_exporter": "python",
   "pygments_lexer": "ipython3",
   "version": "3.10.9"
  }
 },
 "nbformat": 4,
 "nbformat_minor": 5
}
